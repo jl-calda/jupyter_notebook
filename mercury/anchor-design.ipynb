{
 "cells": [
  {
   "cell_type": "code",
   "execution_count": 1,
   "metadata": {},
   "outputs": [],
   "source": [
    "from handcalcs import handcalc\n",
    "from handcalcs import render\n",
    "import mercury as mr\n",
    "import forallpeople\n",
    "import numpy as np\n",
    "import array"
   ]
  },
  {
   "cell_type": "code",
   "execution_count": 2,
   "metadata": {},
   "outputs": [],
   "source": [
    "forallpeople.environment(\"structural\",top_level=True)"
   ]
  },
  {
   "cell_type": "code",
   "execution_count": 3,
   "metadata": {},
   "outputs": [
    {
     "data": {
      "application/mercury+json": {
       "allow_download": true,
       "code_uid": "App.0.40.25.1-rand3d6b8839",
       "continuous_update": true,
       "description": "",
       "full_screen": true,
       "model_id": "mercury-app",
       "notify": "{}",
       "output": "app",
       "schedule": "",
       "show_code": false,
       "show_prompt": false,
       "show_sidebar": true,
       "static_notebook": false,
       "stop_on_error": false,
       "title": "Bolt Design as per EN 1992",
       "widget": "App"
      },
      "text/html": [
       "<h3>Mercury Application</h3><small>This output won't appear in the web app.</small>"
      ],
      "text/plain": [
       "mercury.App"
      ]
     },
     "metadata": {},
     "output_type": "display_data"
    }
   ],
   "source": [
    "app = mr.App(title=\"Bolt Design as per EN 1992\",show_code=False)"
   ]
  },
  {
   "cell_type": "markdown",
   "metadata": {},
   "source": [
    "# Anchor Bolt Design"
   ]
  },
  {
   "cell_type": "markdown",
   "metadata": {},
   "source": [
    "Design as per EN-1992"
   ]
  },
  {
   "cell_type": "code",
   "execution_count": 4,
   "metadata": {},
   "outputs": [
    {
     "data": {
      "application/mercury+json": {
       "code_uid": "Note.0.40.16.1-rand856a3f32",
       "model_id": "Note.0.40.16.1-rand856a3f32",
       "value": "Project Information",
       "widget": "Note"
      },
      "text/markdown": [
       "Project Information"
      ],
      "text/plain": [
       "mercury.Note"
      ]
     },
     "metadata": {},
     "output_type": "display_data"
    },
    {
     "data": {
      "application/mercury+json": {
       "code_uid": "Text.0.40.15.2-rand4017f0ce",
       "disabled": false,
       "hidden": false,
       "label": "Project Name",
       "model_id": "6542aad250264701a9fd076922b77b37",
       "rows": 1,
       "url_key": "",
       "value": "Project Name",
       "widget": "Text"
      },
      "application/vnd.jupyter.widget-view+json": {
       "model_id": "6542aad250264701a9fd076922b77b37",
       "version_major": 2,
       "version_minor": 0
      },
      "text/plain": [
       "mercury.Text"
      ]
     },
     "metadata": {},
     "output_type": "display_data"
    },
    {
     "data": {
      "application/mercury+json": {
       "code_uid": "Text.0.40.15.3-rand2fd0fcc9",
       "disabled": false,
       "hidden": false,
       "label": "Engineer",
       "model_id": "15d88a4105d8485dbc5d9450f5f613a5",
       "rows": 1,
       "url_key": "",
       "value": "INITIAL",
       "widget": "Text"
      },
      "application/vnd.jupyter.widget-view+json": {
       "model_id": "15d88a4105d8485dbc5d9450f5f613a5",
       "version_major": 2,
       "version_minor": 0
      },
      "text/plain": [
       "mercury.Text"
      ]
     },
     "metadata": {},
     "output_type": "display_data"
    }
   ],
   "source": [
    "_=mr.Note(text=\"Project Information\")\n",
    "PROJECT_NAME=mr.Text(value=\"Project Name\",label=\"Project Name\")\n",
    "ENGINEER=mr.Text(value=\"INITIAL\",label=\"Engineer\")"
   ]
  },
  {
   "cell_type": "markdown",
   "metadata": {},
   "source": [
    "### Project Information"
   ]
  },
  {
   "cell_type": "code",
   "execution_count": 5,
   "metadata": {},
   "outputs": [
    {
     "name": "stdout",
     "output_type": "stream",
     "text": [
      "Project Name:  Project Name\n",
      "Engineer:  INITIAL\n"
     ]
    }
   ],
   "source": [
    "print(\"Project Name: \",PROJECT_NAME.value)\n",
    "print(\"Engineer: \",ENGINEER.value)  "
   ]
  },
  {
   "cell_type": "code",
   "execution_count": 6,
   "metadata": {},
   "outputs": [],
   "source": [
    "import sys\n",
    "sys.path.append('/Users/jlcalda/Documents/jupyter_notebooks/mercury/calcs')"
   ]
  },
  {
   "cell_type": "code",
   "execution_count": 7,
   "metadata": {},
   "outputs": [
    {
     "name": "stdout",
     "output_type": "stream",
     "text": [
      "['M4', 'M5', 'M6', 'M8', 'M10', 'M12', 'M14', 'M16', 'M20', 'M24', 'M30', 'M36', 'M42', 'M48', 'M56', 'M64', 'M72', 'M80', 'M90', 'M100']\n",
      "['Gr. 4.6', 'Gr. 4.8', 'Gr. 5.6', 'Gr. 5.8', 'Gr. 6.8', 'Gr. 8.8', 'Gr. 10.9', 'Gr. A4-70', 'Gr. A4-80']\n"
     ]
    }
   ],
   "source": [
    "from constants import anchor_bolt as ab\n",
    "\n",
    "BOLT_GRADES = ab.bolt_grades()\n",
    "BOLT_DIAMETERS = ab.bolt_diameters()"
   ]
  },
  {
   "cell_type": "code",
   "execution_count": 8,
   "metadata": {},
   "outputs": [
    {
     "data": {
      "application/mercury+json": {
       "code_uid": "Note.0.40.16.1-randd63f0c9e",
       "model_id": "Note.0.40.16.1-randd63f0c9e",
       "value": "Bolt Information",
       "widget": "Note"
      },
      "text/markdown": [
       "Bolt Information"
      ],
      "text/plain": [
       "mercury.Note"
      ]
     },
     "metadata": {},
     "output_type": "display_data"
    },
    {
     "data": {
      "application/mercury+json": {
       "choices": [
        "Gr. 4.6",
        "Gr. 4.8",
        "Gr. 5.6",
        "Gr. 5.8",
        "Gr. 6.8",
        "Gr. 8.8",
        "Gr. 10.9",
        "Gr. A4-70",
        "Gr. A4-80"
       ],
       "code_uid": "Select.0.40.16.2-randf37093cb",
       "disabled": false,
       "hidden": false,
       "label": "Bolt Grade",
       "model_id": "22028318f3254a66b730c4964c94e89d",
       "url_key": "",
       "value": "Gr. A4-70",
       "widget": "Select"
      },
      "application/vnd.jupyter.widget-view+json": {
       "model_id": "22028318f3254a66b730c4964c94e89d",
       "version_major": 2,
       "version_minor": 0
      },
      "text/plain": [
       "mercury.Select"
      ]
     },
     "metadata": {},
     "output_type": "display_data"
    },
    {
     "data": {
      "application/mercury+json": {
       "choices": [
        "M4",
        "M5",
        "M6",
        "M8",
        "M10",
        "M12",
        "M14",
        "M16",
        "M20",
        "M24",
        "M30",
        "M36",
        "M42",
        "M48",
        "M56",
        "M64",
        "M72",
        "M80",
        "M90",
        "M100"
       ],
       "code_uid": "Select.0.40.16.6-rand3541a927",
       "disabled": false,
       "hidden": false,
       "label": "Bolt Diameter",
       "model_id": "58d071ca15694d5cb2764dc356ad30f9",
       "url_key": "",
       "value": "M12",
       "widget": "Select"
      },
      "application/vnd.jupyter.widget-view+json": {
       "model_id": "58d071ca15694d5cb2764dc356ad30f9",
       "version_major": 2,
       "version_minor": 0
      },
      "text/plain": [
       "mercury.Select"
      ]
     },
     "metadata": {},
     "output_type": "display_data"
    },
    {
     "data": {
      "application/mercury+json": {
       "code_uid": "Numeric.0.40.26.7-rand323bf482",
       "disabled": false,
       "hidden": false,
       "label": "Bolt Quantity",
       "max": 10,
       "min": 4,
       "model_id": "85f888bca33e419fbb4e4c1d428ad093",
       "step": 1,
       "url_key": "",
       "value": 4,
       "widget": "Numeric"
      },
      "application/vnd.jupyter.widget-view+json": {
       "model_id": "85f888bca33e419fbb4e4c1d428ad093",
       "version_major": 2,
       "version_minor": 0
      },
      "text/plain": [
       "mercury.Numeric"
      ]
     },
     "metadata": {},
     "output_type": "display_data"
    }
   ],
   "source": [
    "_=mr.Note(text=\"Bolt Information\",)\n",
    "BOLT_GRADE=mr.Select(value=\"Gr. A4-70\", choices=BOLT_GRADES,label=\"Bolt Grade\")\n",
    "BOLT_FY=ab.bolt_Fy(BOLT_GRADE.value)\n",
    "BOLT_FU=ab.bolt_Fu(BOLT_GRADE.value)\n",
    "\n",
    "BOLT_TAG=mr.Select(value=\"M12\", choices=BOLT_DIAMETERS,label=\"Bolt Diameter\")\n",
    "BOLT_QTY=mr.Numeric(min=4,value=4,label=\"Bolt Quantity\")\n",
    "\n",
    "BOLT_DIAMETER=ab.bolt_diameter(BOLT_TAG.value)\n",
    "BOLT_GROSS_AREA=ab.bolt_grossArea(BOLT_TAG.value)\n",
    "BOLT_NET_AREA=ab.bolt_netArea(BOLT_TAG.value)"
   ]
  },
  {
   "cell_type": "markdown",
   "metadata": {},
   "source": [
    "### Bolt Information"
   ]
  },
  {
   "cell_type": "code",
   "execution_count": 9,
   "metadata": {},
   "outputs": [
    {
     "name": "stdout",
     "output_type": "stream",
     "text": [
      "Bolt Grade :  Gr. A4-70\n",
      "Bolt Qty :  4.0\n",
      "Bolt Diameter :  12.000 mm\n",
      "Bolt Grade :  76.250 mm²\n",
      "Bolt Gross Area :  84.270 mm²\n"
     ]
    }
   ],
   "source": [
    "print(\"Bolt Grade : \",BOLT_GRADE.value)\n",
    "print(\"Bolt Fy : \",BOLT_FY)\n",
    "print(\"Bolt Fu : \",BOLT_FU)\n",
    "print(\"Bolt Qty : \",BOLT_QTY.value)\n",
    "print(\"Bolt Diameter : \",BOLT_DIAMETER)\n",
    "print(\"Bolt Grade : \",BOLT_NET_AREA)\n",
    "print(\"Bolt Gross Area : \",BOLT_GROSS_AREA)"
   ]
  },
  {
   "cell_type": "code",
   "execution_count": null,
   "metadata": {},
   "outputs": [],
   "source": []
  },
  {
   "cell_type": "markdown",
   "metadata": {},
   "source": [
    "### Loads"
   ]
  },
  {
   "cell_type": "code",
   "execution_count": 10,
   "metadata": {},
   "outputs": [
    {
     "data": {
      "application/mercury+json": {
       "code_uid": "Note.0.40.16.1-rand5d797207",
       "model_id": "Note.0.40.16.1-rand5d797207",
       "value": "Loading Information",
       "widget": "Note"
      },
      "text/markdown": [
       "Loading Information"
      ],
      "text/plain": [
       "mercury.Note"
      ]
     },
     "metadata": {},
     "output_type": "display_data"
    },
    {
     "data": {
      "application/mercury+json": {
       "code_uid": "Numeric.0.40.26.2-rand671d31fa",
       "disabled": false,
       "hidden": false,
       "label": "Normal Force, (kN)",
       "max": 1000000,
       "min": 0,
       "model_id": "23d5cb0429e54c7e9c5017598bf4cad0",
       "step": 1,
       "url_key": "",
       "value": 0,
       "widget": "Numeric"
      },
      "application/vnd.jupyter.widget-view+json": {
       "model_id": "23d5cb0429e54c7e9c5017598bf4cad0",
       "version_major": 2,
       "version_minor": 0
      },
      "text/plain": [
       "mercury.Numeric"
      ]
     },
     "metadata": {},
     "output_type": "display_data"
    },
    {
     "data": {
      "application/mercury+json": {
       "code_uid": "Numeric.0.40.26.3-rand7d5950bc",
       "disabled": false,
       "hidden": false,
       "label": "Moment Along X, (kN-m)",
       "max": 1000000,
       "min": 0,
       "model_id": "5c907cec01a44e64b270ab405f543652",
       "step": 1,
       "url_key": "",
       "value": 0,
       "widget": "Numeric"
      },
      "application/vnd.jupyter.widget-view+json": {
       "model_id": "5c907cec01a44e64b270ab405f543652",
       "version_major": 2,
       "version_minor": 0
      },
      "text/plain": [
       "mercury.Numeric"
      ]
     },
     "metadata": {},
     "output_type": "display_data"
    },
    {
     "data": {
      "application/mercury+json": {
       "code_uid": "Numeric.0.40.26.4-rand2973a6e8",
       "disabled": false,
       "hidden": false,
       "label": "Moment Along Y, (kN-m)",
       "max": 1000000,
       "min": 0,
       "model_id": "8f18eba6e5244cc499b023079b441da7",
       "step": 1,
       "url_key": "",
       "value": 0,
       "widget": "Numeric"
      },
      "application/vnd.jupyter.widget-view+json": {
       "model_id": "8f18eba6e5244cc499b023079b441da7",
       "version_major": 2,
       "version_minor": 0
      },
      "text/plain": [
       "mercury.Numeric"
      ]
     },
     "metadata": {},
     "output_type": "display_data"
    },
    {
     "data": {
      "application/mercury+json": {
       "code_uid": "Numeric.0.40.26.5-rand7f499f97",
       "disabled": false,
       "hidden": false,
       "label": "Shear Along X, (kN)",
       "max": 1000000,
       "min": 0,
       "model_id": "cec05bcb86e3484197e67b4010f332f7",
       "step": 1,
       "url_key": "",
       "value": 0,
       "widget": "Numeric"
      },
      "application/vnd.jupyter.widget-view+json": {
       "model_id": "cec05bcb86e3484197e67b4010f332f7",
       "version_major": 2,
       "version_minor": 0
      },
      "text/plain": [
       "mercury.Numeric"
      ]
     },
     "metadata": {},
     "output_type": "display_data"
    },
    {
     "data": {
      "application/mercury+json": {
       "code_uid": "Numeric.0.40.26.6-rand8e260f4e",
       "disabled": false,
       "hidden": false,
       "label": "Shear Along Y, (kN)",
       "max": 1000000,
       "min": 0,
       "model_id": "5c564e8db01b40fa899695d494d979d2",
       "step": 1,
       "url_key": "",
       "value": 0,
       "widget": "Numeric"
      },
      "application/vnd.jupyter.widget-view+json": {
       "model_id": "5c564e8db01b40fa899695d494d979d2",
       "version_major": 2,
       "version_minor": 0
      },
      "text/plain": [
       "mercury.Numeric"
      ]
     },
     "metadata": {},
     "output_type": "display_data"
    },
    {
     "data": {
      "application/mercury+json": {
       "code_uid": "Numeric.0.40.26.7-randdde5d053",
       "disabled": false,
       "hidden": false,
       "label": "Moment Along X, (kN-m)",
       "max": 1000000,
       "min": 0,
       "model_id": "276ccaa1dc7e4bc5a03616f3a3045d0b",
       "step": 1,
       "url_key": "",
       "value": 0,
       "widget": "Numeric"
      },
      "application/vnd.jupyter.widget-view+json": {
       "model_id": "276ccaa1dc7e4bc5a03616f3a3045d0b",
       "version_major": 2,
       "version_minor": 0
      },
      "text/plain": [
       "mercury.Numeric"
      ]
     },
     "metadata": {},
     "output_type": "display_data"
    }
   ],
   "source": [
    "_=mr.Note(text=\"Loading Information\",)\n",
    "N=mr.Numeric(value=0,max=1000000,label=\"Normal Force, (kN)\").value * kN\n",
    "My=mr.Numeric(value=0,max=1000000,label=\"Moment Along X, (kN-m)\").value * kN*m\n",
    "Mz=mr.Numeric(value=0,max=1000000,label=\"Moment Along Y, (kN-m)\").value * kN*m\n",
    "Vx=mr.Numeric(value=0,max=1000000,label=\"Shear Along X, (kN)\").value * kN\n",
    "Vz=mr.Numeric(value=0,max=1000000,label=\"Shear Along Y, (kN)\").value * kN*m\n",
    "Mx=mr.Numeric(value=0,max=1000000,label=\"Moment Along X, (kN-m)\").value * kN*m"
   ]
  },
  {
   "cell_type": "code",
   "execution_count": 11,
   "metadata": {},
   "outputs": [
    {
     "name": "stdout",
     "output_type": "stream",
     "text": [
      "N =  0.000 N\n",
      "My =  0.000 N·m\n",
      "Mz =  0.000 N·m\n",
      "Vx =  0.000 N\n",
      "Vz =  0.000 N·m\n",
      "Mx =  0.000 N·m\n"
     ]
    }
   ],
   "source": [
    "print(\"N = \",N)\n",
    "print(\"My = \",My)\n",
    "print(\"Mz = \",Mz)\n",
    "print(\"Vx = \",Vx)\n",
    "print(\"Vz = \",Vz)\n",
    "print(\"Mx = \",Mx)"
   ]
  },
  {
   "cell_type": "code",
   "execution_count": 12,
   "metadata": {},
   "outputs": [
    {
     "data": {
      "application/mercury+json": {
       "code_uid": "Text.0.40.15.1-randc3b9c3e9",
       "disabled": false,
       "hidden": false,
       "label": "Bolt Grade",
       "model_id": "5e4e40dc78ae4e76ab135d0cd28e74ad",
       "rows": 1,
       "url_key": "",
       "value": "A470",
       "widget": "Text"
      },
      "application/vnd.jupyter.widget-view+json": {
       "model_id": "5e4e40dc78ae4e76ab135d0cd28e74ad",
       "version_major": 2,
       "version_minor": 0
      },
      "text/plain": [
       "mercury.Text"
      ]
     },
     "metadata": {},
     "output_type": "display_data"
    }
   ],
   "source": [
    "BOLT_GRADE = mr.Text(value=\"A470\", label=\"Bolt Grade\", rows=1)"
   ]
  },
  {
   "cell_type": "markdown",
   "metadata": {},
   "source": [
    "### Calculation"
   ]
  },
  {
   "cell_type": "code",
   "execution_count": 13,
   "metadata": {},
   "outputs": [
    {
     "data": {
      "text/latex": [
       "\\[\n",
       "\\begin{aligned}\n",
       "\\mathrm{Total} &= \\mathrm{My} + \\mathrm{Mz}  = 0.000\\ \\mathrm{N} \\cdot \\mathrm{m} + 0.000\\ \\mathrm{N} \\cdot \\mathrm{m} &= 0.000\\ \\mathrm{N} \\cdot \\mathrm{m}  \n",
       "\\end{aligned}\n",
       "\\]"
      ],
      "text/plain": [
       "<IPython.core.display.Latex object>"
      ]
     },
     "metadata": {},
     "output_type": "display_data"
    }
   ],
   "source": [
    "%%render\n",
    "Total =My+Mz"
   ]
  }
 ],
 "metadata": {
  "kernelspec": {
   "display_name": ".venv",
   "language": "python",
   "name": "python3"
  },
  "language_info": {
   "codemirror_mode": {
    "name": "ipython",
    "version": 3
   },
   "file_extension": ".py",
   "mimetype": "text/x-python",
   "name": "python",
   "nbconvert_exporter": "python",
   "pygments_lexer": "ipython3",
   "version": "3.9.6"
  },
  "orig_nbformat": 4
 },
 "nbformat": 4,
 "nbformat_minor": 2
}
